{
 "cells": [
  {
   "cell_type": "code",
   "execution_count": 2,
   "metadata": {},
   "outputs": [
    {
     "data": {
      "text/plain": [
       "'2.2.0'"
      ]
     },
     "execution_count": 2,
     "metadata": {},
     "output_type": "execute_result"
    }
   ],
   "source": [
    "import tensorflow as tf\n",
    "from tensorflow import keras\n",
    "tf.__version__"
   ]
  },
  {
   "cell_type": "code",
   "execution_count": 3,
   "metadata": {},
   "outputs": [],
   "source": [
    "import numpy as np\n",
    "import pandas as pd"
   ]
  },
  {
   "cell_type": "code",
   "execution_count": 2,
   "metadata": {},
   "outputs": [
    {
     "data": {
      "text/plain": [
       "'2.3.0-tf'"
      ]
     },
     "execution_count": 2,
     "metadata": {},
     "output_type": "execute_result"
    }
   ],
   "source": [
    "keras.__version__"
   ]
  },
  {
   "cell_type": "code",
   "execution_count": 8,
   "metadata": {},
   "outputs": [],
   "source": [
    "fashion_mnist = keras.datasets.fashion_mnist\n",
    "(X_train_full, y_train_full), (X_test, y_test) = fashion_mnist.load_data()"
   ]
  },
  {
   "cell_type": "code",
   "execution_count": 9,
   "metadata": {},
   "outputs": [
    {
     "data": {
      "text/plain": [
       "(60000, 28, 28)"
      ]
     },
     "execution_count": 9,
     "metadata": {},
     "output_type": "execute_result"
    }
   ],
   "source": [
    "X_train_full.shape"
   ]
  },
  {
   "cell_type": "code",
   "execution_count": 10,
   "metadata": {},
   "outputs": [
    {
     "data": {
      "text/plain": [
       "(60000,)"
      ]
     },
     "execution_count": 10,
     "metadata": {},
     "output_type": "execute_result"
    }
   ],
   "source": [
    "y_train_full.shape"
   ]
  },
  {
   "cell_type": "code",
   "execution_count": 11,
   "metadata": {},
   "outputs": [
    {
     "data": {
      "text/plain": [
       "array([9, 0, 0, ..., 3, 0, 5], dtype=uint8)"
      ]
     },
     "execution_count": 11,
     "metadata": {},
     "output_type": "execute_result"
    }
   ],
   "source": [
    "y_train_full"
   ]
  },
  {
   "cell_type": "code",
   "execution_count": 12,
   "metadata": {},
   "outputs": [],
   "source": [
    "#梯度下降训练神经网络，必须要对输入特征进行缩放\n",
    "X_valid, X_train = X_train_full[:5000] / 255.0, X_train_full[5000:] / 255.0\n",
    "y_valid, y_train = y_train_full[:5000], y_train_full[5000:]"
   ]
  },
  {
   "cell_type": "code",
   "execution_count": 13,
   "metadata": {},
   "outputs": [
    {
     "data": {
      "text/plain": [
       "'Coat'"
      ]
     },
     "execution_count": 13,
     "metadata": {},
     "output_type": "execute_result"
    }
   ],
   "source": [
    "class_names = [\"T-shirt/top\", \"Trouser\", \"Pullover\", \"Dress\", \"Coat\",\n",
    "               \"Sandal\", \"Shirt\", \"Sneaker\", \"Bag\", \"Ankle boot\"]\n",
    "class_names[y_train[0]]"
   ]
  },
  {
   "cell_type": "code",
   "execution_count": 14,
   "metadata": {},
   "outputs": [],
   "source": [
    "import matplotlib.pyplot as plt\n",
    "import matplotlib as mpl\n",
    "%matplotlib inline\n",
    "\n",
    "def plot_digit(data):\n",
    "    image = data.reshape(28, 28)\n",
    "    plt.imshow(image, cmap = mpl.cm.binary,\n",
    "               interpolation=\"nearest\")\n",
    "    plt.axis(\"off\")"
   ]
  },
  {
   "cell_type": "code",
   "execution_count": 29,
   "metadata": {},
   "outputs": [
    {
     "data": {
      "image/png": "[encoded data removed]",
      "text/plain": [
       "<Figure size 432x288 with 1 Axes>"
      ]
     },
     "metadata": {
      "needs_background": "light"
     },
     "output_type": "display_data"
    }
   ],
   "source": [
    "plot_digit(X_test[0])"
   ]
  },
  {
   "cell_type": "code",
   "execution_count": 17,
   "metadata": {},
   "outputs": [],
   "source": [
    "model = keras.models.Sequential()\n",
    "model.add(keras.layers.Flatten(input_shape=[28, 28]))\n",
    "model.add(keras.layers.Dense(300, activation=\"relu\"))\n",
    "model.add(keras.layers.Dense(100, activation=\"relu\"))\n",
    "model.add(keras.layers.Dense(10, activation=\"softmax\"))"
   ]
  },
  {
   "cell_type": "code",
   "execution_count": 18,
   "metadata": {},
   "outputs": [
    {
     "name": "stdout",
     "output_type": "stream",
     "text": [
      "Model: \"sequential\"\n",
      "_________________________________________________________________\n",
      "Layer (type)                 Output Shape              Param #   \n",
      "=================================================================\n",
      "flatten (Flatten)            (None, 784)               0         \n",
      "_________________________________________________________________\n",
      "dense (Dense)                (None, 300)               235500    \n",
      "_________________________________________________________________\n",
      "dense_1 (Dense)              (None, 100)               30100     \n",
      "_________________________________________________________________\n",
      "dense_2 (Dense)              (None, 10)                1010      \n",
      "=================================================================\n",
      "Total params: 266,610\n",
      "Trainable params: 266,610\n",
      "Non-trainable params: 0\n",
      "_________________________________________________________________\n"
     ]
    }
   ],
   "source": [
    "model.summary()"
   ]
  },
  {
   "cell_type": "code",
   "execution_count": 19,
   "metadata": {},
   "outputs": [
    {
     "data": {
      "text/plain": [
       "'dense'"
      ]
     },
     "execution_count": 19,
     "metadata": {},
     "output_type": "execute_result"
    }
   ],
   "source": [
    "hidden1 = model.layers[1]\n",
    "hidden1.name"
   ]
  },
  {
   "cell_type": "code",
   "execution_count": 20,
   "metadata": {},
   "outputs": [
    {
     "data": {
      "text/plain": [
       "<tensorflow.python.keras.layers.core.Dense at 0x157547cc358>"
      ]
     },
     "execution_count": 20,
     "metadata": {},
     "output_type": "execute_result"
    }
   ],
   "source": [
    "model.get_layer('dense')"
   ]
  },
  {
   "cell_type": "code",
   "execution_count": 21,
   "metadata": {},
   "outputs": [],
   "source": [
    "weights, biases = hidden1.get_weights()"
   ]
  },
  {
   "cell_type": "code",
   "execution_count": 23,
   "metadata": {},
   "outputs": [
    {
     "data": {
      "text/plain": [
       "array([[-0.00358707, -0.01927349, -0.04717771, ..., -0.03803562,\n",
       "        -0.02494682,  0.02335989],\n",
       "       [ 0.00765259, -0.05748503, -0.01732587, ...,  0.01473098,\n",
       "         0.03866412, -0.01609075],\n",
       "       [ 0.00836433,  0.05978332,  0.0353161 , ...,  0.01797194,\n",
       "        -0.02626731,  0.04457383],\n",
       "       ...,\n",
       "       [-0.00572047, -0.06671125,  0.06176782, ...,  0.03309449,\n",
       "         0.01307972,  0.06975734],\n",
       "       [ 0.03417611,  0.03663995,  0.04352098, ..., -0.03629566,\n",
       "         0.0136682 , -0.01832418],\n",
       "       [-0.03666372, -0.06137844, -0.04198727, ..., -0.03888833,\n",
       "        -0.05471255, -0.06686991]], dtype=float32)"
      ]
     },
     "execution_count": 23,
     "metadata": {},
     "output_type": "execute_result"
    }
   ],
   "source": [
    "weights"
   ]
  },
  {
   "cell_type": "code",
   "execution_count": 24,
   "metadata": {},
   "outputs": [
    {
     "data": {
      "text/plain": [
       "(784, 300)"
      ]
     },
     "execution_count": 24,
     "metadata": {},
     "output_type": "execute_result"
    }
   ],
   "source": [
    "weights.shape"
   ]
  },
  {
   "cell_type": "code",
   "execution_count": 25,
   "metadata": {},
   "outputs": [],
   "source": [
    "model.compile(loss=\"sparse_categorical_crossentropy\",\n",
    "              optimizer=\"sgd\",\n",
    "              metrics=[\"accuracy\"])"
   ]
  },
  {
   "cell_type": "code",
   "execution_count": 26,
   "metadata": {
    "scrolled": true
   },
   "outputs": [
    {
     "name": "stdout",
     "output_type": "stream",
     "text": [
      "Epoch 1/30\n",
      "1719/1719 [==============================] - 2s 1ms/step - loss: 0.7005 - accuracy: 0.7718 - val_loss: 0.4905 - val_accuracy: 0.8384\n",
      "Epoch 2/30\n",
      "1719/1719 [==============================] - 2s 1ms/step - loss: 0.4836 - accuracy: 0.8317 - val_loss: 0.4537 - val_accuracy: 0.8434\n",
      "Epoch 3/30\n",
      "1719/1719 [==============================] - 2s 1ms/step - loss: 0.4392 - accuracy: 0.8461 - val_loss: 0.4354 - val_accuracy: 0.8464\n",
      "Epoch 4/30\n",
      "1719/1719 [==============================] - 2s 1ms/step - loss: 0.4116 - accuracy: 0.8565 - val_loss: 0.3956 - val_accuracy: 0.8648 0.4129 - accuracy: \n",
      "Epoch 5/30\n",
      "1719/1719 [==============================] - 2s 1ms/step - loss: 0.3925 - accuracy: 0.8623 - val_loss: 0.3817 - val_accuracy: 0.8676\n",
      "Epoch 6/30\n",
      "1719/1719 [==============================] - 2s 1ms/step - loss: 0.3769 - accuracy: 0.8672 - val_loss: 0.4249 - val_accuracy: 0.8530\n",
      "Epoch 7/30\n",
      "1719/1719 [==============================] - 2s 1ms/step - loss: 0.3649 - accuracy: 0.8705 - val_loss: 0.3591 - val_accuracy: 0.8756\n",
      "Epoch 8/30\n",
      "1719/1719 [==============================] - 2s 1ms/step - loss: 0.3532 - accuracy: 0.8751 - val_loss: 0.3635 - val_accuracy: 0.8702\n",
      "Epoch 9/30\n",
      "1719/1719 [==============================] - 2s 1ms/step - loss: 0.3437 - accuracy: 0.8782 - val_loss: 0.3687 - val_accuracy: 0.8730\n",
      "Epoch 10/30\n",
      "1719/1719 [==============================] - 2s 1ms/step - loss: 0.3334 - accuracy: 0.8802 - val_loss: 0.3437 - val_accuracy: 0.8826\n",
      "Epoch 11/30\n",
      "1719/1719 [==============================] - 2s 1ms/step - loss: 0.3252 - accuracy: 0.8835 - val_loss: 0.3381 - val_accuracy: 0.8788\n",
      "Epoch 12/30\n",
      "1719/1719 [==============================] - 2s 1ms/step - loss: 0.3173 - accuracy: 0.8881 - val_loss: 0.3519 - val_accuracy: 0.8756\n",
      "Epoch 13/30\n",
      "1719/1719 [==============================] - 2s 1ms/step - loss: 0.3105 - accuracy: 0.8886 - val_loss: 0.3560 - val_accuracy: 0.8696\n",
      "Epoch 14/30\n",
      "1719/1719 [==============================] - 2s 1ms/step - loss: 0.3035 - accuracy: 0.8913 - val_loss: 0.3374 - val_accuracy: 0.8828\n",
      "Epoch 15/30\n",
      "1719/1719 [==============================] - 2s 1ms/step - loss: 0.2968 - accuracy: 0.8946 - val_loss: 0.3331 - val_accuracy: 0.8786 - loss: 0.2955 - \n",
      "Epoch 16/30\n",
      "1719/1719 [==============================] - 2s 1ms/step - loss: 0.2913 - accuracy: 0.8953 - val_loss: 0.3346 - val_accuracy: 0.8824\n",
      "Epoch 17/30\n",
      "1719/1719 [==============================] - 2s 1ms/step - loss: 0.2853 - accuracy: 0.8981 - val_loss: 0.3223 - val_accuracy: 0.8856\n",
      "Epoch 18/30\n",
      "1719/1719 [==============================] - 2s 1ms/step - loss: 0.2798 - accuracy: 0.8981 - val_loss: 0.3286 - val_accuracy: 0.8816\n",
      "Epoch 19/30\n",
      "1719/1719 [==============================] - 2s 1ms/step - loss: 0.2747 - accuracy: 0.9009 - val_loss: 0.3127 - val_accuracy: 0.8886\n",
      "Epoch 20/30\n",
      "1719/1719 [==============================] - ETA: 0s - loss: 0.2703 - accuracy: 0.9027 ETA: 0s - loss: 0.2691 -  - 2s 1ms/step - loss: 0.2703 - accuracy: 0.9027 - val_loss: 0.3153 - val_accuracy: 0.8886\n",
      "Epoch 21/30\n",
      "1719/1719 [==============================] - 2s 1ms/step - loss: 0.2646 - accuracy: 0.9051 - val_loss: 0.3155 - val_accuracy: 0.8876\n",
      "Epoch 22/30\n",
      "1719/1719 [==============================] - 2s 1ms/step - loss: 0.2593 - accuracy: 0.9069 - val_loss: 0.3134 - val_accuracy: 0.8886\n",
      "Epoch 23/30\n",
      "1719/1719 [==============================] - 2s 1ms/step - loss: 0.2561 - accuracy: 0.9080 - val_loss: 0.3101 - val_accuracy: 0.8874\n",
      "Epoch 24/30\n",
      "1719/1719 [==============================] - 2s 1ms/step - loss: 0.2515 - accuracy: 0.9090 - val_loss: 0.3165 - val_accuracy: 0.8846\n",
      "Epoch 25/30\n",
      "1719/1719 [==============================] - 2s 1ms/step - loss: 0.2471 - accuracy: 0.9113 - val_loss: 0.3057 - val_accuracy: 0.8878s: 0 - ETA: 0s - loss: 0.2469 - accuracy\n",
      "Epoch 26/30\n",
      "1719/1719 [==============================] - 2s 1ms/step - loss: 0.2432 - accuracy: 0.9127 - val_loss: 0.3147 - val_accuracy: 0.88680s - loss: 0.2429 - \n",
      "Epoch 27/30\n",
      "1719/1719 [==============================] - 2s 1ms/step - loss: 0.2388 - accuracy: 0.9136 - val_loss: 0.3143 - val_accuracy: 0.8852\n",
      "Epoch 28/30\n",
      "1719/1719 [==============================] - 2s 1ms/step - loss: 0.2360 - accuracy: 0.9158 - val_loss: 0.2960 - val_accuracy: 0.8944\n",
      "Epoch 29/30\n",
      "1719/1719 [==============================] - 2s 1ms/step - loss: 0.2314 - accuracy: 0.9168 - val_loss: 0.3129 - val_accuracy: 0.8882\n",
      "Epoch 30/30\n",
      "1719/1719 [==============================] - 2s 1ms/step - loss: 0.2283 - accuracy: 0.9181 - val_loss: 0.2941 - val_accuracy: 0.8952\n"
     ]
    }
   ],
   "source": [
    "history = model.fit(X_train, y_train, epochs=30,\n",
    "...                     validation_data=(X_valid, y_valid))\n"
   ]
  },
  {
   "cell_type": "code",
   "execution_count": 27,
   "metadata": {},
   "outputs": [
    {
     "data": {
      "image/png": "[encoded data removed]",
      "text/plain": [
       "<Figure size 576x360 with 1 Axes>"
      ]
     },
     "metadata": {
      "needs_background": "light"
     },
     "output_type": "display_data"
    }
   ],
   "source": [
    "import pandas as pd\n",
    "import matplotlib.pyplot as plt\n",
    "\n",
    "pd.DataFrame(history.history).plot(figsize=(8, 5))\n",
    "plt.grid(True)\n",
    "plt.gca().set_ylim(0, 1) # set the vertical range to [0-1]\n",
    "plt.show()"
   ]
  },
  {
   "cell_type": "code",
   "execution_count": 30,
   "metadata": {},
   "outputs": [
    {
     "name": "stdout",
     "output_type": "stream",
     "text": [
      "313/313 [==============================] - 0s 926us/step - loss: 67.6553 - accuracy: 0.8411\n"
     ]
    },
    {
     "data": {
      "text/plain": [
       "[67.6552963256836, 0.8410999774932861]"
      ]
     },
     "execution_count": 30,
     "metadata": {},
     "output_type": "execute_result"
    }
   ],
   "source": [
    "#当对验证准确率达到满意之后，就可以用测试集评估泛化误差\n",
    "model.evaluate(X_test, y_test)"
   ]
  },
  {
   "cell_type": "code",
   "execution_count": 33,
   "metadata": {},
   "outputs": [
    {
     "data": {
      "text/plain": [
       "array([[0., 0., 0., 0., 0., 0., 0., 0., 0., 1.],\n",
       "       [0., 0., 1., 0., 0., 0., 0., 0., 0., 0.],\n",
       "       [0., 1., 0., 0., 0., 0., 0., 0., 0., 0.]], dtype=float32)"
      ]
     },
     "execution_count": 33,
     "metadata": {},
     "output_type": "execute_result"
    }
   ],
   "source": [
    "X_new = X_test[:3]\n",
    "y_proba = model.predict(X_new)\n",
    "y_proba"
   ]
  },
  {
   "cell_type": "code",
   "execution_count": 35,
   "metadata": {},
   "outputs": [
    {
     "name": "stdout",
     "output_type": "stream",
     "text": [
      "WARNING:tensorflow:From <ipython-input-35-81ace37e545f>:1: Sequential.predict_classes (from tensorflow.python.keras.engine.sequential) is deprecated and will be removed after 2021-01-01.\n",
      "Instructions for updating:\n",
      "Please use instead:* `np.argmax(model.predict(x), axis=-1)`,   if your model does multi-class classification   (e.g. if it uses a `softmax` last-layer activation).* `(model.predict(x) > 0.5).astype(\"int32\")`,   if your model does binary classification   (e.g. if it uses a `sigmoid` last-layer activation).\n"
     ]
    },
    {
     "data": {
      "text/plain": [
       "array([9, 2, 1], dtype=int64)"
      ]
     },
     "execution_count": 35,
     "metadata": {},
     "output_type": "execute_result"
    }
   ],
   "source": [
    "y_pred = model.predict_classes(X_new)\n",
    "y_pred"
   ]
  },
  {
   "cell_type": "code",
   "execution_count": 38,
   "metadata": {},
   "outputs": [
    {
     "data": {
      "text/plain": [
       "array(['Ankle boot', 'Pullover', 'Trouser'], dtype='<U11')"
      ]
     },
     "execution_count": 38,
     "metadata": {},
     "output_type": "execute_result"
    }
   ],
   "source": [
    "np.array(class_names)[y_pred]"
   ]
  },
  {
   "cell_type": "code",
   "execution_count": 4,
   "metadata": {},
   "outputs": [],
   "source": [
    "from sklearn.datasets import fetch_california_housing\n",
    "from sklearn.model_selection import train_test_split\n",
    "from sklearn.preprocessing import StandardScaler"
   ]
  },
  {
   "cell_type": "code",
   "execution_count": 5,
   "metadata": {},
   "outputs": [],
   "source": [
    "housing = fetch_california_housing()\n",
    "X_train_full, X_test, y_train_full, y_test = train_test_split(\n",
    "    housing.data, housing.target)\n",
    "X_train, X_valid, y_train, y_valid = train_test_split(\n",
    "    X_train_full, y_train_full)\n",
    "scaler = StandardScaler()\n",
    "X_train = scaler.fit_transform(X_train)\n",
    "X_valid = scaler.transform(X_valid)\n",
    "X_test = scaler.transform(X_test)"
   ]
  },
  {
   "cell_type": "code",
   "execution_count": 44,
   "metadata": {
    "scrolled": true
   },
   "outputs": [
    {
     "name": "stdout",
     "output_type": "stream",
     "text": [
      "Epoch 1/20\n",
      "363/363 [==============================] - 0s 783us/step - loss: 0.7893 - val_loss: 6.6178\n",
      "Epoch 2/20\n",
      "363/363 [==============================] - 0s 692us/step - loss: 1.7220 - val_loss: 0.4647\n",
      "Epoch 3/20\n",
      "363/363 [==============================] - 0s 695us/step - loss: 0.4410 - val_loss: 0.4304\n",
      "Epoch 4/20\n",
      "363/363 [==============================] - 0s 698us/step - loss: 0.4116 - val_loss: 0.4315\n",
      "Epoch 5/20\n",
      "363/363 [==============================] - 0s 695us/step - loss: 0.3991 - val_loss: 0.3978\n",
      "Epoch 6/20\n",
      "363/363 [==============================] - 0s 696us/step - loss: 0.3980 - val_loss: 0.4332\n",
      "Epoch 7/20\n",
      "363/363 [==============================] - 0s 692us/step - loss: 0.4180 - val_loss: 0.4126\n",
      "Epoch 8/20\n",
      "363/363 [==============================] - 0s 698us/step - loss: 0.3883 - val_loss: 0.4149\n",
      "Epoch 9/20\n",
      "363/363 [==============================] - 0s 695us/step - loss: 0.3826 - val_loss: 0.3884\n",
      "Epoch 10/20\n",
      "363/363 [==============================] - 0s 692us/step - loss: 0.3756 - val_loss: 0.3930\n",
      "Epoch 11/20\n",
      "363/363 [==============================] - 0s 692us/step - loss: 0.3696 - val_loss: 0.3807\n",
      "Epoch 12/20\n",
      "363/363 [==============================] - 0s 698us/step - loss: 0.3826 - val_loss: 0.3790\n",
      "Epoch 13/20\n",
      "363/363 [==============================] - 0s 695us/step - loss: 0.3672 - val_loss: 0.3681\n",
      "Epoch 14/20\n",
      "363/363 [==============================] - 0s 700us/step - loss: 0.3620 - val_loss: 0.3758\n",
      "Epoch 15/20\n",
      "363/363 [==============================] - 0s 695us/step - loss: 0.3600 - val_loss: 0.3640\n",
      "Epoch 16/20\n",
      "363/363 [==============================] - 0s 698us/step - loss: 0.3595 - val_loss: 0.3628\n",
      "Epoch 17/20\n",
      "363/363 [==============================] - 0s 706us/step - loss: 0.3603 - val_loss: 0.3594\n",
      "Epoch 18/20\n",
      "363/363 [==============================] - 0s 698us/step - loss: 0.3562 - val_loss: 0.3663\n",
      "Epoch 19/20\n",
      "363/363 [==============================] - 0s 700us/step - loss: 0.3542 - val_loss: 0.3620\n",
      "Epoch 20/20\n",
      "363/363 [==============================] - 0s 717us/step - loss: 0.3526 - val_loss: 0.3577\n",
      "162/162 [==============================] - 0s 457us/step - loss: 0.3479\n"
     ]
    }
   ],
   "source": [
    "model = keras.models.Sequential([\n",
    "    keras.layers.Dense(30, activation=\"relu\", input_shape=X_train.shape[1:]),\n",
    "    keras.layers.Dense(1)\n",
    "])\n",
    "model.compile(loss=\"mean_squared_error\", optimizer=\"sgd\")\n",
    "history = model.fit(X_train, y_train, epochs=20,\n",
    "                    validation_data=(X_valid, y_valid))\n",
    "mse_test = model.evaluate(X_test, y_test)\n",
    "X_new = X_test[:3] # pretend these are new instances\n",
    "y_pred = model.predict(X_new)"
   ]
  },
  {
   "cell_type": "code",
   "execution_count": 8,
   "metadata": {},
   "outputs": [],
   "source": [
    "input_A = keras.layers.Input(shape=[5], name=\"wide_input\")\n",
    "input_B = keras.layers.Input(shape=[6], name=\"deep_input\")\n",
    "hidden1 = keras.layers.Dense(30, activation=\"relu\")(input_B)\n",
    "hidden2 = keras.layers.Dense(30, activation=\"relu\")(hidden1)\n",
    "concat = keras.layers.concatenate([input_A, hidden2])\n",
    "output = keras.layers.Dense(1, name=\"output\")(concat)\n",
    "model = keras.Model(inputs=[input_A, input_B], outputs=[output])"
   ]
  },
  {
   "cell_type": "code",
   "execution_count": 9,
   "metadata": {},
   "outputs": [
    {
     "name": "stdout",
     "output_type": "stream",
     "text": [
      "Epoch 1/20\n",
      "363/363 [==============================] - 0s 1ms/step - loss: 2.1972 - val_loss: 0.9010\n",
      "Epoch 2/20\n",
      "363/363 [==============================] - 0s 772us/step - loss: 0.7676 - val_loss: 0.6913\n",
      "Epoch 3/20\n",
      "363/363 [==============================] - 0s 765us/step - loss: 0.6589 - val_loss: 0.6305\n",
      "Epoch 4/20\n",
      "363/363 [==============================] - 0s 767us/step - loss: 0.6160 - val_loss: 0.5961\n",
      "Epoch 5/20\n",
      "363/363 [==============================] - 0s 756us/step - loss: 0.5904 - val_loss: 0.5736\n",
      "Epoch 6/20\n",
      "363/363 [==============================] - 0s 780us/step - loss: 0.5704 - val_loss: 0.5561\n",
      "Epoch 7/20\n",
      "363/363 [==============================] - 0s 767us/step - loss: 0.5552 - val_loss: 0.5418\n",
      "Epoch 8/20\n",
      "363/363 [==============================] - 0s 764us/step - loss: 0.5415 - val_loss: 0.5300\n",
      "Epoch 9/20\n",
      "363/363 [==============================] - 0s 769us/step - loss: 0.5305 - val_loss: 0.5199\n",
      "Epoch 10/20\n",
      "363/363 [==============================] - 0s 767us/step - loss: 0.5194 - val_loss: 0.5108\n",
      "Epoch 11/20\n",
      "363/363 [==============================] - 0s 758us/step - loss: 0.5123 - val_loss: 0.5030\n",
      "Epoch 12/20\n",
      "363/363 [==============================] - 0s 772us/step - loss: 0.5049 - val_loss: 0.4954\n",
      "Epoch 13/20\n",
      "363/363 [==============================] - 0s 756us/step - loss: 0.4978 - val_loss: 0.4890\n",
      "Epoch 14/20\n",
      "363/363 [==============================] - 0s 772us/step - loss: 0.4917 - val_loss: 0.4825\n",
      "Epoch 15/20\n",
      "363/363 [==============================] - 0s 753us/step - loss: 0.4852 - val_loss: 0.4767\n",
      "Epoch 16/20\n",
      "363/363 [==============================] - 0s 756us/step - loss: 0.4805 - val_loss: 0.4715\n",
      "Epoch 17/20\n",
      "363/363 [==============================] - 0s 758us/step - loss: 0.4756 - val_loss: 0.4665\n",
      "Epoch 18/20\n",
      "363/363 [==============================] - 0s 758us/step - loss: 0.4705 - val_loss: 0.4617\n",
      "Epoch 19/20\n",
      "363/363 [==============================] - 0s 758us/step - loss: 0.4672 - val_loss: 0.4569\n",
      "Epoch 20/20\n",
      "363/363 [==============================] - 0s 758us/step - loss: 0.4625 - val_loss: 0.4529\n",
      "162/162 [==============================] - 0s 494us/step - loss: 0.4671\n"
     ]
    }
   ],
   "source": [
    "model.compile(loss=\"mse\", optimizer=keras.optimizers.SGD(lr=1e-3))\n",
    "\n",
    "X_train_A, X_train_B = X_train[:, :5], X_train[:, 2:]\n",
    "X_valid_A, X_valid_B = X_valid[:, :5], X_valid[:, 2:]\n",
    "X_test_A, X_test_B = X_test[:, :5], X_test[:, 2:]\n",
    "X_new_A, X_new_B = X_test_A[:3], X_test_B[:3]\n",
    "\n",
    "history = model.fit((X_train_A, X_train_B), y_train, epochs=20,\n",
    "                    validation_data=((X_valid_A, X_valid_B), y_valid))\n",
    "mse_test = model.evaluate((X_test_A, X_test_B), y_test)\n",
    "y_pred = model.predict((X_new_A, X_new_B))"
   ]
  },
  {
   "cell_type": "code",
   "execution_count": null,
   "metadata": {},
   "outputs": [],
   "source": [
    "model.save(\"my_keras_model.h5\")\n",
    "model = keras.models.load_model(\"my_keras_model.h5\")"
   ]
  },
  {
   "cell_type": "code",
   "execution_count": 10,
   "metadata": {},
   "outputs": [
    {
     "data": {
      "text/plain": [
       "ERROR: Failed to launch TensorBoard (exited with 1).\n",
       "Contents of stderr:\n",
       "2020-07-25 10:25:07.025094: W tensorflow/stream_executor/platform/default/dso_loader.cc:55] Could not load dynamic library 'cudart64_101.dll'; dlerror: cudart64_101.dll not found\n",
       "2020-07-25 10:25:07.025204: I tensorflow/stream_executor/cuda/cudart_stub.cc:29] Ignore above cudart dlerror if you do not have a GPU set up on your machine.\n",
       "Traceback (most recent call last):\n",
       "  File \"c:\\users\\wei\\appdata\\local\\programs\\python\\python36\\lib\\runpy.py\", line 193, in _run_module_as_main\n",
       "    \"__main__\", mod_spec)\n",
       "  File \"c:\\users\\wei\\appdata\\local\\programs\\python\\python36\\lib\\runpy.py\", line 85, in _run_code\n",
       "    exec(code, run_globals)\n",
       "  File \"C:\\Users\\wei\\AppData\\Local\\Programs\\Python\\Python36\\Scripts\\tensorboard.exe\\__main__.py\", line 7, in <module>\n",
       "  File \"c:\\users\\wei\\appdata\\local\\programs\\python\\python36\\lib\\site-packages\\tensorboard\\main.py\", line 65, in run_main\n",
       "    default.get_plugins() + default.get_dynamic_plugins(),\n",
       "  File \"c:\\users\\wei\\appdata\\local\\programs\\python\\python36\\lib\\site-packages\\tensorboard\\default.py\", line 125, in get_dynamic_plugins\n",
       "    \"tensorboard_plugins\"\n",
       "  File \"c:\\users\\wei\\appdata\\local\\programs\\python\\python36\\lib\\site-packages\\tensorboard\\default.py\", line 124, in <listcomp>\n",
       "    for entry_point in pkg_resources.iter_entry_points(\n",
       "  File \"c:\\users\\wei\\appdata\\local\\programs\\python\\python36\\lib\\site-packages\\pkg_resources\\__init__.py\", line 2290, in load\n",
       "    self.require(*args, **kwargs)\n",
       "  File \"c:\\users\\wei\\appdata\\local\\programs\\python\\python36\\lib\\site-packages\\pkg_resources\\__init__.py\", line 2307, in require\n",
       "    items = working_set.resolve(reqs, env, installer)\n",
       "  File \"c:\\users\\wei\\appdata\\local\\programs\\python\\python36\\lib\\site-packages\\pkg_resources\\__init__.py\", line 858, in resolve\n",
       "    raise VersionConflict(dist, req).with_context(dependent_req)\n",
       "pkg_resources.VersionConflict: (setuptools 28.8.0 (c:\\users\\wei\\appdata\\local\\programs\\python\\python36\\lib\\site-packages), Requirement.parse('setuptools>=41.0.0'))"
      ]
     },
     "metadata": {},
     "output_type": "display_data"
    }
   ],
   "source": [
    "%load_ext tensorboard\n",
    "%tensorboard --logdir=./my_logs --port=6006"
   ]
  },
  {
   "cell_type": "code",
   "execution_count": null,
   "metadata": {},
   "outputs": [],
   "source": []
  }
 ],
 "metadata": {
  "kernelspec": {
   "display_name": "Python 3",
   "language": "python",
   "name": "python3"
  },
  "language_info": {
   "codemirror_mode": {
    "name": "ipython",
    "version": 3
   },
   "file_extension": ".py",
   "mimetype": "text/x-python",
   "name": "python",
   "nbconvert_exporter": "python",
   "pygments_lexer": "ipython3",
   "version": "3.6.3"
  }
 },
 "nbformat": 4,
 "nbformat_minor": 2
}
